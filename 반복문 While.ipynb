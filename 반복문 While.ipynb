{
 "cells": [
  {
   "cell_type": "code",
   "execution_count": 2,
   "metadata": {},
   "outputs": [
    {
     "name": "stdout",
     "output_type": "stream",
     "text": [
      "x=1\n",
      "x=2\n",
      "x=3\n",
      "x=4\n",
      "x=5\n",
      "x=6\n",
      "x=7\n",
      "x=8\n",
      "x=9\n",
      "x=10\n",
      "x의 최종값= 11\n"
     ]
    }
   ],
   "source": [
    "#반복문 While\n",
    "\n",
    "x=1   #초기식\n",
    "while x <= 10:   #조건식-> x가 10보다 작거나 같은 동안 반복수행\n",
    "    print(\"x=%d\" %x)  #반복이 진행되는 동안 수행할 명령\n",
    "    x+=1   #증감식 -> 조건에 사용되는 값을 변경\n",
    "print(\"x의 최종값=\", x)"
   ]
  },
  {
   "cell_type": "code",
   "execution_count": 3,
   "metadata": {},
   "outputs": [
    {
     "name": "stdout",
     "output_type": "stream",
     "text": [
      "7 x 1 = 7\n",
      "7 x 2 = 14\n",
      "7 x 3 = 21\n",
      "7 x 4 = 28\n",
      "7 x 5 = 35\n",
      "7 x 6 = 42\n",
      "7 x 7 = 49\n",
      "7 x 8 = 56\n",
      "7 x 9 = 63\n"
     ]
    }
   ],
   "source": [
    "#구구단 7단 출력하기\n",
    "\n",
    "y=1\n",
    "while y < 10:\n",
    "    z = 7*y\n",
    "    \n",
    "    print(\"7 x %d = %d\" % (y,z))\n",
    "    y +=1 "
   ]
  },
  {
   "cell_type": "code",
   "execution_count": 7,
   "metadata": {},
   "outputs": [
    {
     "name": "stdout",
     "output_type": "stream",
     "text": [
      "x=1, sum1\n",
      "x=2, sum3\n",
      "x=3, sum6\n",
      "x=4, sum10\n",
      "x=5, sum15\n",
      "x=6, sum21\n",
      "x=7, sum28\n",
      "x=8, sum36\n",
      "x=9, sum45\n",
      "x=10, sum55\n"
     ]
    }
   ],
   "source": [
    "#총 합 구하기\n",
    "#1-10까지의 총 합을 구하기\n",
    "\n",
    "x = 1 #초기식\n",
    "sum = 0 #총 합을 누적해서 저장할 변수\n",
    "while x <= 10 : # 조건식 -> x가 10보다 작거나 같은 동안 반복 수행\n",
    "    sum += x\n",
    "    print(\"x=%d, sum%d\" %(x, sum))\n",
    "    x += 1 # 증감식 -> 조건에 사용되는 값을 변경"
   ]
  },
  {
   "cell_type": "code",
   "execution_count": 8,
   "metadata": {},
   "outputs": [
    {
     "name": "stdout",
     "output_type": "stream",
     "text": [
      "b=10\n",
      "b=8\n",
      "b=6\n",
      "b=4\n",
      "b=2\n"
     ]
    }
   ],
   "source": [
    "# 값의 변화단계 조절하기\n",
    "#10부터 0전(=1)까지 2씩 감소\n",
    "\n",
    "b=10\n",
    "while b>0:\n",
    "    print(\"b=%d\" % b)\n",
    "    b -=2\n"
   ]
  },
  {
   "cell_type": "code",
   "execution_count": 9,
   "metadata": {},
   "outputs": [
    {
     "name": "stdout",
     "output_type": "stream",
     "text": [
      "[100, 200, 300, 400, 500]\n"
     ]
    }
   ],
   "source": [
    "#리스트의 원소 탐색하기\n",
    "#리스트는 0부터 1씩 증가하는 인덱스를 갖는다는 특성이 있으므로, 이를 활용하여 리스트의 원소를 탐색할 수 있다.\n",
    "\n",
    "mylist = [10, 20, 30, 40, 50]   #실습을 위한 리스트\n",
    "size = len(mylist)   # 리스트의 전체 원소 수\n",
    "i=0   #0부터 카운트 할 리스트의 인덱스\n",
    "\n",
    "#인덱스가 전체 원소 수 보다 작은 동안 반복\n",
    "while i < size:\n",
    "    x = mylist[i] #i번째 원소를 추출\n",
    "    mylist[i] = x * 10    #추출한 값에 10을 곱하고 다시 i번째 위치에 저장\n",
    "    i+=1   #다음번 원소 탐색을 위해 인덱스 1증가\n",
    "\n",
    "print(mylist)"
   ]
  },
  {
   "cell_type": "code",
   "execution_count": null,
   "metadata": {},
   "outputs": [],
   "source": []
  }
 ],
 "metadata": {
  "kernelspec": {
   "display_name": "Python 3",
   "language": "python",
   "name": "python3"
  },
  "language_info": {
   "codemirror_mode": {
    "name": "ipython",
    "version": 3
   },
   "file_extension": ".py",
   "mimetype": "text/x-python",
   "name": "python",
   "nbconvert_exporter": "python",
   "pygments_lexer": "ipython3",
   "version": "3.11.5"
  },
  "orig_nbformat": 4
 },
 "nbformat": 4,
 "nbformat_minor": 2
}
