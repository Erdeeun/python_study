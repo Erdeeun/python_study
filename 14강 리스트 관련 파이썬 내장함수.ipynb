{
 "cells": [
  {
   "cell_type": "markdown",
   "metadata": {},
   "source": [
    "# 리스트 관련 파이썬 내장함수\n",
    "## 리스트의 길이 조회"
   ]
  },
  {
   "cell_type": "code",
   "execution_count": 1,
   "metadata": {},
   "outputs": [
    {
     "name": "stdout",
     "output_type": "stream",
     "text": [
      "3\n"
     ]
    }
   ],
   "source": [
    "mylist = [1, 2, 3]\n",
    "print(len(mylist))"
   ]
  },
  {
   "cell_type": "markdown",
   "metadata": {},
   "source": [
    "## 리스트 정렬"
   ]
  },
  {
   "cell_type": "code",
   "execution_count": 6,
   "metadata": {},
   "outputs": [
    {
     "name": "stdout",
     "output_type": "stream",
     "text": [
      "[4, 2, 5, 3, 1]\n",
      "[1, 2, 3, 4, 5]\n",
      "[5, 4, 3, 2, 1]\n",
      "[4, 2, 5, 3, 1]\n"
     ]
    }
   ],
   "source": [
    "#원본리스트\n",
    "mylist = [4,2,5,3,1]\n",
    "print(mylist)\n",
    "\n",
    "#원소의 순차정렬 --> 원본은 유지, 정렬 결과가 적용된 복사본이 반환된다.\n",
    "asc = sorted(mylist)\n",
    "print(asc)\n",
    "\n",
    "#원소의 역순정렬 --> 원본은 유지, 정렬 결과가 적용된 복사본이 반환된다.\n",
    "desc = sorted(mylist, reverse=True)\n",
    "print(desc)\n",
    "\n",
    "#원본 출력 확인 --> 원본은 계속 유지된다.\n",
    "print(mylist)"
   ]
  },
  {
   "cell_type": "code",
   "execution_count": 8,
   "metadata": {},
   "outputs": [
    {
     "name": "stdout",
     "output_type": "stream",
     "text": [
      "[4, 2, 5, 3, 1, 10]\n"
     ]
    }
   ],
   "source": [
    "# 리스트 마지막에 추가하기 --> append\n",
    "# 만약 [] 사용하여 추가하면 [] 자체가 하나의 원소가 되어 출력됨\n",
    "\n",
    "# 리스트 중간에 추가하기 --> insert \n",
    "#()안에 원하는 인덱스 자리 지정하고 콤마 뒤에 넣고싶은 정보 삽입\n",
    "\n",
    "# 리스트 맨 앞에 추가하기 --> insert 사용하여 좌표를 인덱스 0에 넣어줌\n",
    "\n",
    "# 리스트와 같은 효과 \n",
    "lastIndex = len(mylist)\n",
    "mylist.insert(lastIndex, 10)\n",
    "print(mylist)\n"
   ]
  },
  {
   "cell_type": "code",
   "execution_count": 10,
   "metadata": {},
   "outputs": [
    {
     "name": "stdout",
     "output_type": "stream",
     "text": [
      "[1, 2, 3, 10, 9, 8, 7]\n"
     ]
    }
   ],
   "source": [
    "# 리스트의 확장\n",
    "#extend() 메서드를 호출한 원본에 파라미터로 전달된 리스트를 덧붙인다\n",
    "mylist = [1,2,3]\n",
    "addon = [10,9,8,7]\n",
    "mylist.extend(addon)\n",
    "print(mylist)"
   ]
  },
  {
   "cell_type": "code",
   "execution_count": 12,
   "metadata": {},
   "outputs": [
    {
     "name": "stdout",
     "output_type": "stream",
     "text": [
      "[1, 3]\n"
     ]
    }
   ],
   "source": [
    "#리스트의 원소 삭제\n",
    "mylist = [1,2,3]\n",
    "del(mylist[1]) #인덱스번호임\n",
    "print(mylist)"
   ]
  },
  {
   "cell_type": "code",
   "execution_count": 13,
   "metadata": {},
   "outputs": [
    {
     "name": "stdout",
     "output_type": "stream",
     "text": [
      "3\n",
      "[1, 2]\n"
     ]
    }
   ],
   "source": [
    "#리스트의 맨 마지막 요소를 꺼내서 리턴하고 원본에서는 삭제\n",
    "mylist = [1,2,3]\n",
    "k=mylist.pop()\n",
    "print(k)\n",
    "print(mylist)"
   ]
  },
  {
   "cell_type": "code",
   "execution_count": 14,
   "metadata": {},
   "outputs": [
    {
     "name": "stdout",
     "output_type": "stream",
     "text": [
      "[9, 3, 5, 7, 1]\n"
     ]
    }
   ],
   "source": [
    "#리스트의 역순배치\n",
    "mylist = [1,7,5,3,9]\n",
    "mylist.reverse()\n",
    "print(mylist)"
   ]
  },
  {
   "cell_type": "code",
   "execution_count": 15,
   "metadata": {},
   "outputs": [
    {
     "name": "stdout",
     "output_type": "stream",
     "text": [
      "[1, 2, 3, 4, 5]\n"
     ]
    }
   ],
   "source": [
    "#리스트의 순차 정렬 (오름차순)--> 객체 원본에 반영된다.\n",
    "mylist = [2,5,1,4,3]\n",
    "mylist.sort()\n",
    "print(mylist)"
   ]
  },
  {
   "cell_type": "code",
   "execution_count": 16,
   "metadata": {},
   "outputs": [
    {
     "name": "stdout",
     "output_type": "stream",
     "text": [
      "[5, 4, 3, 2, 1]\n"
     ]
    }
   ],
   "source": [
    "#역순정렬 (내림차순)--> 객체 원본에 반영된다\n",
    "mylist = [2,5,1,4,3]\n",
    "mylist.sort(reverse=True)\n",
    "print(mylist)"
   ]
  },
  {
   "cell_type": "code",
   "execution_count": 17,
   "metadata": {},
   "outputs": [
    {
     "name": "stdout",
     "output_type": "stream",
     "text": [
      "['Hello', ' Python', ' World', ' Good']\n"
     ]
    }
   ],
   "source": [
    "#문자열을 잘라서 리스트로 변환하기\n",
    "#문자열을 주어진 글자를 기준으로 잘라서 리스트로 변환\n",
    "#-> 문자열 객체에 포함된 함수 사용\n",
    "text = \"Hello, Python, World, Good\"\n",
    "mylist = text.split(\",\")\n",
    "print(mylist)"
   ]
  },
  {
   "cell_type": "code",
   "execution_count": 19,
   "metadata": {},
   "outputs": [
    {
     "name": "stdout",
     "output_type": "stream",
     "text": [
      "Hello/python/World/Good\n"
     ]
    }
   ],
   "source": [
    "#리스트를 문자열로 결합하기\n",
    "slash = \"/\"\n",
    "mylist = ['Hello', 'python', 'World', 'Good']\n",
    "text = slash.join(mylist)\n",
    "print(text)"
   ]
  },
  {
   "cell_type": "code",
   "execution_count": 20,
   "metadata": {},
   "outputs": [
    {
     "name": "stdout",
     "output_type": "stream",
     "text": [
      "HelloPythonWorldGood\n"
     ]
    }
   ],
   "source": [
    "#별다른 기호 없이 리스트를 하나의 문자열로 연결하기\n",
    "space = \"\"\n",
    "mylist = ['Hello', 'Python', 'World', 'Good']\n",
    "text = space.join(mylist)\n",
    "print(text)"
   ]
  },
  {
   "cell_type": "code",
   "execution_count": 22,
   "metadata": {},
   "outputs": [
    {
     "name": "stdout",
     "output_type": "stream",
     "text": [
      "Hello Python World Good\n"
     ]
    }
   ],
   "source": [
    "#리스트의 각 원소를 공백으로 구분한 문자열로 연결하기\n",
    "space2 = \" \"\n",
    "mylist = ['Hello', 'Python', 'World', 'Good']\n",
    "text= space2.join(mylist)\n",
    "print(text)"
   ]
  },
  {
   "cell_type": "code",
   "execution_count": null,
   "metadata": {},
   "outputs": [],
   "source": [
    "#리스트는 대괄호 [ ]사용, 튜플은 소괄호 ( )사용\n",
    "#튜플은 읽기 전용, 원소의 값을 수정할 수 없다"
   ]
  }
 ],
 "metadata": {
  "kernelspec": {
   "display_name": "Python 3",
   "language": "python",
   "name": "python3"
  },
  "language_info": {
   "codemirror_mode": {
    "name": "ipython",
    "version": 3
   },
   "file_extension": ".py",
   "mimetype": "text/x-python",
   "name": "python",
   "nbconvert_exporter": "python",
   "pygments_lexer": "ipython3",
   "version": "3.11.5"
  },
  "orig_nbformat": 4
 },
 "nbformat": 4,
 "nbformat_minor": 2
}
