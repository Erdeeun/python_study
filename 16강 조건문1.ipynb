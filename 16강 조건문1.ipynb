{
 "cells": [
  {
   "cell_type": "code",
   "execution_count": 2,
   "metadata": {},
   "outputs": [
    {
     "name": "stdout",
     "output_type": "stream",
     "text": [
      "시험시작\n",
      "합격입니다.\n",
      "시험 끝\n"
     ]
    }
   ],
   "source": [
    "#IF문\n",
    "#조건문 이해하기\n",
    "print(\"시험시작\")\n",
    "\n",
    "score=int(input(\"점수를 입력하세요\"))\n",
    "\n",
    "if score >=60:\n",
    "    print(\"합격입니다.\")\n",
    "\n",
    "print(\"시험 끝\")"
   ]
  },
  {
   "cell_type": "code",
   "execution_count": 6,
   "metadata": {},
   "outputs": [
    {
     "name": "stdout",
     "output_type": "stream",
     "text": [
      "택시를 타고\n",
      "집에 가자\n"
     ]
    }
   ],
   "source": [
    "#숫자형 변수에 대한 조건 처리\n",
    "\n",
    "money = 10000\n",
    "#money = 0\n",
    "\n",
    "if money:\n",
    "    print(\"택시를 타고\")\n",
    "\n",
    "print(\"집에 가자\")"
   ]
  },
  {
   "cell_type": "code",
   "execution_count": 11,
   "metadata": {},
   "outputs": [
    {
     "name": "stdout",
     "output_type": "stream",
     "text": [
      "프로그래밍\n"
     ]
    }
   ],
   "source": [
    "#문자열 변수에 대한 조건 처리\n",
    "#name = \"Python\"\n",
    "name=\"\"\n",
    "\n",
    "if name:\n",
    "    print(name)\n",
    "\n",
    "print(\"프로그래밍\")"
   ]
  },
  {
   "cell_type": "code",
   "execution_count": 12,
   "metadata": {},
   "outputs": [
    {
     "name": "stdout",
     "output_type": "stream",
     "text": [
      "국어:100, 영어:80, 수학:70\n",
      "성적처리\n"
     ]
    }
   ],
   "source": [
    "#리스트에 대한 조건 처리\n",
    "grade = [100, 80, 70]\n",
    "#grade = []\n",
    "\n",
    "if grade:\n",
    "    msg=\"국어:{0}, 영어:{1}, 수학:{2}\"\n",
    "    print(msg.format(grade[0], grade[1], grade[2]))\n",
    "\n",
    "print(\"성적처리\")"
   ]
  },
  {
   "cell_type": "code",
   "execution_count": 13,
   "metadata": {},
   "outputs": [
    {
     "name": "stdout",
     "output_type": "stream",
     "text": [
      "19살 입니다.\n",
      "20살이 아닙니다.\n",
      "청소년입니다.\n"
     ]
    }
   ],
   "source": [
    "#비교식과 논리식을 활용한 if문\n",
    "\n",
    "myage=int(input('나이를 입력하세요'))\n",
    "\n",
    "if myage == 19:\n",
    "    print(\"19살 입니다.\")\n",
    "\n",
    "if myage != 20:\n",
    "    print(\"20살이 아닙니다.\")\n",
    "\n",
    "if myage > 19:\n",
    "    print(\"성인입니다.\")\n",
    "\n",
    "if myage <=19:\n",
    "    print(\"청소년입니다.\")"
   ]
  },
  {
   "cell_type": "code",
   "execution_count": 16,
   "metadata": {},
   "outputs": [
    {
     "name": "stdout",
     "output_type": "stream",
     "text": [
      "C학점 입니다\n"
     ]
    }
   ],
   "source": [
    "point = int(input(\"점수를 입력하세요\"))\n",
    "\n",
    "#AND --> 전체가 참이어야 결과가 참\n",
    "\n",
    "if point > 70 and point <=80:\n",
    "    print(\"C학점 입니다\")\n",
    "\n",
    "#OR--> 하나라도 참이면 전체가 참\n",
    "\n",
    "if point <=70 or point >80:\n",
    "    print(\"C학점이 아닙니다.\")\n"
   ]
  },
  {
   "cell_type": "code",
   "execution_count": 18,
   "metadata": {},
   "outputs": [
    {
     "name": "stdout",
     "output_type": "stream",
     "text": [
      "1) x와 y는 같다\n"
     ]
    }
   ],
   "source": [
    "# == 와 is 의 차이\n",
    "\n",
    "# == 은 값만 비교하므로 실수형 1.0과 정수형 1을 같다고 판별한다.\n",
    "# is 는 변수의 타입까지 비교하므로 실수형과 정수형은 다르다고 판별한다\n",
    "\n",
    "x=1\n",
    "y=1.0\n",
    "\n",
    "#조건을 참으로 인식함\n",
    "\n",
    "if x == y:\n",
    "    print(\"1) x와 y는 같다\")\n",
    "\n",
    "if x is y:\n",
    "    print(\"2) x와 y는 같다\")"
   ]
  },
  {
   "cell_type": "code",
   "execution_count": 21,
   "metadata": {},
   "outputs": [],
   "source": [
    "#포함 여부를 검사하는 in 연산자\n",
    "#in은 왼쪽의 값이 오른쪽 대상에 포함되어 있다면 참.\n",
    "\n",
    "#예제를 위한 변수 준비\n",
    "user1 =\"hello\"\n",
    "user2 =\"world\"\n",
    "memberList = [\"hello\", \"Python\", \"life\"]\n",
    "\n"
   ]
  },
  {
   "cell_type": "code",
   "execution_count": 22,
   "metadata": {},
   "outputs": [
    {
     "name": "stdout",
     "output_type": "stream",
     "text": [
      "True\n"
     ]
    }
   ],
   "source": [
    "#왼쪽의 변수가 오른족의 리스트에 속한 값이므로 참\n",
    "a = user1 in memberList\n",
    "print(a)"
   ]
  },
  {
   "cell_type": "code",
   "execution_count": 23,
   "metadata": {},
   "outputs": [
    {
     "name": "stdout",
     "output_type": "stream",
     "text": [
      "False\n"
     ]
    }
   ],
   "source": [
    "#왼쪽의 변수가 오른쪽의 리스트에 속해있지 않으므로 거짓\n",
    "\n",
    "b = user2 in memberList\n",
    "print(b)"
   ]
  },
  {
   "cell_type": "code",
   "execution_count": 24,
   "metadata": {},
   "outputs": [
    {
     "name": "stdout",
     "output_type": "stream",
     "text": [
      "hello(은)는 이미 가입되어 있습니다.\n"
     ]
    }
   ],
   "source": [
    "#in연산자를 활용한 조건문\n",
    "\n",
    "#조건이 참이므로 결과가 출력됨\n",
    "\n",
    "if user1 in memberList:\n",
    "    print(user1+\"(은)는 이미 가입되어 있습니다.\")\n"
   ]
  },
  {
   "cell_type": "code",
   "execution_count": 27,
   "metadata": {},
   "outputs": [],
   "source": [
    "#조건이 거짓이므로 결과가 출력되지 않음\n",
    "if user2 in memberList:\n",
    "    print(user2+\"(은)는 이미 가입되어 있습니다.\")"
   ]
  },
  {
   "cell_type": "code",
   "execution_count": 28,
   "metadata": {},
   "outputs": [],
   "source": [
    "#포함되지 않았음을 검사하는 not in 연산자\n",
    "#not in 은 포함되어 있지 않은 경우 참이 된다,\n"
   ]
  },
  {
   "cell_type": "code",
   "execution_count": 29,
   "metadata": {},
   "outputs": [],
   "source": [
    "#조건이 거짓이므로 결과가 출력되지 않음\n",
    "if user1 not in memberList:\n",
    "    print( user1 + \"(은)는 가입되어 있지 않습니다\")"
   ]
  },
  {
   "cell_type": "code",
   "execution_count": 30,
   "metadata": {},
   "outputs": [
    {
     "name": "stdout",
     "output_type": "stream",
     "text": [
      "world(은)는 가입되어 있지 않습니다.\n"
     ]
    }
   ],
   "source": [
    "#조건이 참이므로 결과가 출력됨\n",
    "if user2 not in memberList:\n",
    "    print(user2+\"(은)는 가입되어 있지 않습니다.\")"
   ]
  },
  {
   "cell_type": "code",
   "execution_count": 31,
   "metadata": {},
   "outputs": [
    {
     "name": "stdout",
     "output_type": "stream",
     "text": [
      "시험시작\n",
      "합격입니다\n",
      "시험 끝\n"
     ]
    }
   ],
   "source": [
    "#else 절 활용하기 '그렇지 않으면'의 의미, 독립적으로 사용될 수 없고 반드시 if 문 뒤에만 위치\n",
    "\n",
    "print(\"시험시작\")\n",
    "\n",
    "score = int(input(\"점수를 입력하세요\"))\n",
    "\n",
    "if score >= 60:\n",
    "    print(\"합격입니다\")\n",
    "else:\n",
    "    print(\"불합격입니다\")\n",
    "\n",
    "print(\"시험 끝\")"
   ]
  },
  {
   "cell_type": "code",
   "execution_count": 32,
   "metadata": {},
   "outputs": [
    {
     "name": "stdout",
     "output_type": "stream",
     "text": [
      "한국인입니다...(1)\n",
      "한국인입니다...(4)\n"
     ]
    }
   ],
   "source": [
    "answer= input(\"한국인입니까? (Y/N)\")\n",
    "\n",
    "if answer.upper() == \"Y\":\n",
    "    isKorean = True\n",
    "else:\n",
    "    isKorean = False\n",
    "\n",
    "#논리값을 조건으로 사용할 경우 \"만약 이 변수가 참이라면?\"의 의미\n",
    "\n",
    "if isKorean: \n",
    "    print(\"한국인입니다...(1)\")\n",
    "else:\n",
    "    print(\"한국인이 아닙니다...(2)\")\n",
    "\n",
    "#논리값의 부정형을 조건으로 사용할 경우 \"만약 이 변수가 거짓이라면?\"의 의미\n",
    "\n",
    "if not isKorean:\n",
    "    print(\"한국인이 아닙니다...(3)\")\n",
    "else:\n",
    "    print(\"한국인입니다...(4)\")"
   ]
  },
  {
   "cell_type": "code",
   "execution_count": 33,
   "metadata": {},
   "outputs": [],
   "source": [
    "#else문의 활용예시\n",
    "\n",
    "# 샘플 데이터\n",
    "user1 = \"hello\"\n",
    "user2 = \"world\"\n",
    "memberList = [\"hello\", \"python\", \"Life\"]\n"
   ]
  },
  {
   "cell_type": "code",
   "execution_count": 37,
   "metadata": {},
   "outputs": [
    {
     "name": "stdout",
     "output_type": "stream",
     "text": [
      "hello는 이미 가입되어 있습니다.\n"
     ]
    }
   ],
   "source": [
    "if user1 in memberList:\n",
    "    #조건이 참이므로 if절 실행\n",
    "    print(\"%s는 이미 가입되어 있습니다.\" % user1)\n",
    "else:\n",
    "    #조건이 거짓이 아니므로 else절은 실행되지 않는다.\n",
    "    print(\"%s는 가입되어 있지 않습니다.\" % user1)"
   ]
  },
  {
   "cell_type": "code",
   "execution_count": 36,
   "metadata": {},
   "outputs": [
    {
     "name": "stdout",
     "output_type": "stream",
     "text": [
      "world는 가입되어 있지 않습니다\n"
     ]
    }
   ],
   "source": [
    "if user2 in memberList:\n",
    "    #조건이 거짓이므로 if 절은 실행되지 않는다\n",
    "    print(\"%s는 이미 가입되어 있습니다\" %user2)\n",
    "\n",
    "else:\n",
    "    #조건이 거짓이므로 else절이 실행된다\n",
    "    print(\"%s는 가입되어 있지 않습니다\" % user2)"
   ]
  },
  {
   "cell_type": "code",
   "execution_count": 38,
   "metadata": {},
   "outputs": [],
   "source": [
    "#elif를 활용한 다양한 경우의 수 나열\n",
    "#elif는 if와 else사이에서 나열된 조건 중 처음으로 만나는 참인 조건에 대한 블록을 수행하고 나머지 조건은 무시하고 종료한다. "
   ]
  },
  {
   "cell_type": "code",
   "execution_count": 39,
   "metadata": {},
   "outputs": [
    {
     "name": "stdout",
     "output_type": "stream",
     "text": [
      "시험 시작\n",
      "B학점\n",
      "시험 끝\n"
     ]
    }
   ],
   "source": [
    "print(\"시험 시작\")\n",
    "\n",
    "point = int(input(\"점수를 입력하세요\"))\n",
    "\n",
    "if point>90:\n",
    "    print(\"A학점\")\n",
    "elif point>80:\n",
    "    print(\"B학점\")\n",
    "elif point>70:\n",
    "    print(\"C학점\")\n",
    "elif point>60:\n",
    "    print(\"D학점\")\n",
    "else:\n",
    "    print(\"F학점\")\n",
    "\n",
    "print(\"시험 끝\")\n",
    "\n"
   ]
  },
  {
   "cell_type": "code",
   "execution_count": null,
   "metadata": {},
   "outputs": [],
   "source": []
  }
 ],
 "metadata": {
  "kernelspec": {
   "display_name": "Python 3",
   "language": "python",
   "name": "python3"
  },
  "language_info": {
   "codemirror_mode": {
    "name": "ipython",
    "version": 3
   },
   "file_extension": ".py",
   "mimetype": "text/x-python",
   "name": "python",
   "nbconvert_exporter": "python",
   "pygments_lexer": "ipython3",
   "version": "3.11.5"
  },
  "orig_nbformat": 4
 },
 "nbformat": 4,
 "nbformat_minor": 2
}
