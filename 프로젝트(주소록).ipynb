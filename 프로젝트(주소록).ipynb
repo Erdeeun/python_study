{
 "cells": [
  {
   "cell_type": "markdown",
   "metadata": {},
   "source": [
    "# 주소록 자료구조 생성하기"
   ]
  },
  {
   "cell_type": "code",
   "execution_count": 9,
   "metadata": {},
   "outputs": [
    {
     "name": "stdout",
     "output_type": "stream",
     "text": [
      "[{'name': '김철수', 'phone': '010-7876-9887'}, {'name': '김헤미', 'phone': '010-6656-1123'}, {'name': '김하영', 'phone': '010-1638-0865'}]\n"
     ]
    }
   ],
   "source": [
    "#인원수를 의미하는 정수형 변수 count를 사용자의 입력값을 활용하여 초기화 합니다\n",
    "\n",
    "count=int(input(\"인원을 기입하세요\"))\n",
    "\n",
    "#빈 리스트 adressBook을 정의합니다.\n",
    "adressBook=[]\n",
    "\n",
    "#count만큼 반복합니다.\n",
    "for i in range(0, count):\n",
    "    #이름과 연락처를 \"/\"기준으로 입력받습니다. \n",
    "    item = input(\" %d번째 사람의 이름과 연락처를 \\\"/\\\"로 구분하여 기입하세요\" %(i+1))\n",
    "\n",
    "    #입력받은 값을 \"/\"을 기준으로 잘라서 리스트로 변환\n",
    "    itemList= item.split(\"/\")\n",
    "\n",
    "    #입력받은 값을 딕셔너리 형식으로 생성\n",
    "    addr = {\"name\": itemList[0].strip(), \"phone\": itemList[1].strip()}\n",
    "\n",
    "    #생성된 값을 adressBook에 추가 \n",
    "    adressBook.append(addr)\n",
    "\n",
    "print(adressBook)"
   ]
  },
  {
   "cell_type": "code",
   "execution_count": null,
   "metadata": {},
   "outputs": [],
   "source": []
  },
  {
   "cell_type": "code",
   "execution_count": null,
   "metadata": {},
   "outputs": [],
   "source": []
  }
 ],
 "metadata": {
  "kernelspec": {
   "display_name": "Python 3",
   "language": "python",
   "name": "python3"
  },
  "language_info": {
   "codemirror_mode": {
    "name": "ipython",
    "version": 3
   },
   "file_extension": ".py",
   "mimetype": "text/x-python",
   "name": "python",
   "nbconvert_exporter": "python",
   "pygments_lexer": "ipython3",
   "version": "3.11.5"
  },
  "orig_nbformat": 4
 },
 "nbformat": 4,
 "nbformat_minor": 2
}
