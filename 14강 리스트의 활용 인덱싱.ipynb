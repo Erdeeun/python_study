{
 "cells": [
  {
   "cell_type": "markdown",
   "metadata": {},
   "source": [
    "# 14강 - 리스트의 활용\n",
    "\n",
    "## 리스트의 인덱싱\n",
    "\n",
    "리스트에서도 문자열과 동일하게 인덱싱을 사용하여 값에 접근할 수 있다. \n",
    "\n",
    "인덱싱의 결과는 단일 원소 값 하나를 추출한다.\n"
   ]
  },
  {
   "cell_type": "code",
   "execution_count": 1,
   "metadata": {},
   "outputs": [
    {
     "data": {
      "text/plain": [
       "[10, 20, 30, 40, 50]"
      ]
     },
     "execution_count": 1,
     "metadata": {},
     "output_type": "execute_result"
    }
   ],
   "source": [
    "#실습을 위한 샘플 데이터\n",
    "mylist = [10, 20, 30, 40, 50]\n",
    "mylist"
   ]
  },
  {
   "cell_type": "code",
   "execution_count": 2,
   "metadata": {},
   "outputs": [
    {
     "name": "stdout",
     "output_type": "stream",
     "text": [
      "20\n"
     ]
    }
   ],
   "source": [
    "#1번째 원소에 접근 -> 0부터 카운트\n",
    "print(mylist[1])"
   ]
  },
  {
   "cell_type": "code",
   "execution_count": 3,
   "metadata": {},
   "outputs": [
    {
     "name": "stdout",
     "output_type": "stream",
     "text": [
      "50\n"
     ]
    }
   ],
   "source": [
    "#-1번째 원소에 접근 -> -1부터 카운트\n",
    "print(mylist[-1])"
   ]
  },
  {
   "cell_type": "code",
   "execution_count": 4,
   "metadata": {},
   "outputs": [
    {
     "data": {
      "text/plain": [
       "[60, 70, 80, 90, 100]"
      ]
     },
     "execution_count": 4,
     "metadata": {},
     "output_type": "execute_result"
    }
   ],
   "source": [
    "#실습을 위한 샘플 데이터\n",
    "mylist = [60, 70, 80, 90, 100]\n",
    "mylist"
   ]
  },
  {
   "cell_type": "code",
   "execution_count": 5,
   "metadata": {},
   "outputs": [
    {
     "name": "stdout",
     "output_type": "stream",
     "text": [
      "[70, 80]\n"
     ]
    }
   ],
   "source": [
    "#list에서 1번째 부터 3번째 전까지 -> 3번째 원소 포함안됨\n",
    "print(mylist[1:3])"
   ]
  },
  {
   "cell_type": "code",
   "execution_count": 6,
   "metadata": {},
   "outputs": [
    {
     "name": "stdout",
     "output_type": "stream",
     "text": [
      "[60, 70, 80]\n"
     ]
    }
   ],
   "source": [
    "#처음부터 3전까지 ->3번째 원소 포함안됨\n",
    "print(mylist[:3])"
   ]
  },
  {
   "cell_type": "code",
   "execution_count": 7,
   "metadata": {},
   "outputs": [
    {
     "name": "stdout",
     "output_type": "stream",
     "text": [
      "[60, 70, 80, 90, 100]\n"
     ]
    }
   ],
   "source": [
    "#list의 모든 원소\n",
    "print(mylist[:])"
   ]
  },
  {
   "cell_type": "code",
   "execution_count": 8,
   "metadata": {},
   "outputs": [
    {
     "name": "stdout",
     "output_type": "stream",
     "text": [
      "[70, 80]\n"
     ]
    }
   ],
   "source": [
    "#list에서 1번째부터 뒤에서부터 2번째 다음까지\n",
    "#-> 마이너스 값을 사용하여 지정할 경우 \"다음까지 \"의 의미\n",
    "#-> 항상 끝 위치를 의미하는 인덱스의 왼쪽 원소까지만 슬라이싱 된다.\n",
    "print(mylist[1:-2])"
   ]
  },
  {
   "cell_type": "code",
   "execution_count": null,
   "metadata": {},
   "outputs": [],
   "source": []
  }
 ],
 "metadata": {
  "kernelspec": {
   "display_name": "Python 3",
   "language": "python",
   "name": "python3"
  },
  "language_info": {
   "codemirror_mode": {
    "name": "ipython",
    "version": 3
   },
   "file_extension": ".py",
   "mimetype": "text/x-python",
   "name": "python",
   "nbconvert_exporter": "python",
   "pygments_lexer": "ipython3",
   "version": "3.11.5"
  },
  "orig_nbformat": 4
 },
 "nbformat": 4,
 "nbformat_minor": 2
}
