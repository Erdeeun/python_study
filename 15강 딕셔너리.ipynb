{
 "cells": [
  {
   "cell_type": "code",
   "execution_count": 1,
   "metadata": {},
   "outputs": [
    {
     "data": {
      "text/plain": [
       "{'name': '철수', 'phone': '010-1234-5678', 'birth': '0115'}"
      ]
     },
     "execution_count": 1,
     "metadata": {},
     "output_type": "execute_result"
    }
   ],
   "source": [
    "#딕셔너리 정의하기\n",
    "#이름 (Key)와 값 (Value)이 쌍을 이루는 자료구조\n",
    "\n",
    "mydic = {\n",
    "    \"name\":\"철수\", \n",
    "    \"phone\": \"010-1234-5678\", \n",
    "    \"birth\":\"0115\"\n",
    "}\n",
    "mydic"
   ]
  },
  {
   "cell_type": "code",
   "execution_count": 5,
   "metadata": {},
   "outputs": [
    {
     "name": "stdout",
     "output_type": "stream",
     "text": [
      "철수\n"
     ]
    }
   ],
   "source": [
    "#특정 원소에 접근하기 -> 직접 출력\n",
    "print(mydic[\"name\"])"
   ]
  },
  {
   "cell_type": "code",
   "execution_count": 6,
   "metadata": {},
   "outputs": [
    {
     "name": "stdout",
     "output_type": "stream",
     "text": [
      "010-1234-5678\n"
     ]
    }
   ],
   "source": [
    "#특정 원소에 접근하기 -> 다른 변수에 복사\n",
    "phone = mydic[\"phone\"]\n",
    "print(phone)"
   ]
  },
  {
   "cell_type": "code",
   "execution_count": 7,
   "metadata": {},
   "outputs": [
    {
     "data": {
      "text/plain": [
       "{'name': '호영', 'phone': '010-1234-5678', 'birth': '0115'}"
      ]
     },
     "execution_count": 7,
     "metadata": {},
     "output_type": "execute_result"
    }
   ],
   "source": [
    "#특정 원소의 값을 변경\n",
    "mydic[\"name\"]=\"호영\"\n",
    "mydic"
   ]
  },
  {
   "cell_type": "code",
   "execution_count": 8,
   "metadata": {},
   "outputs": [
    {
     "data": {
      "text/plain": [
       "{'name': '호영', 'phone': '010-1234-5678'}"
      ]
     },
     "execution_count": 8,
     "metadata": {},
     "output_type": "execute_result"
    }
   ],
   "source": [
    "#특정 원소의 값을 삭제하기\n",
    "# key가 birth인 데이터 삭제\n",
    "del(mydic[\"birth\"])\n",
    "mydic"
   ]
  },
  {
   "cell_type": "code",
   "execution_count": 9,
   "metadata": {},
   "outputs": [
    {
     "data": {
      "text/plain": [
       "{'name': '호영', 'phone': '010-1234-5678', 'height': 175}"
      ]
     },
     "execution_count": 9,
     "metadata": {},
     "output_type": "execute_result"
    }
   ],
   "source": [
    "# 리스트 사용 제약\n",
    "#존재하지 않는 키의 값을 사용하면 에러 \n",
    "#존재하지 않는 키의 값을 할당하면 확장\n",
    "mydic[\"height\"]= 175\n",
    "mydic"
   ]
  },
  {
   "cell_type": "code",
   "execution_count": 11,
   "metadata": {},
   "outputs": [
    {
     "name": "stdout",
     "output_type": "stream",
     "text": [
      "python\n"
     ]
    },
    {
     "data": {
      "text/plain": [
       "{'msg': 'python'}"
      ]
     },
     "execution_count": 11,
     "metadata": {},
     "output_type": "execute_result"
    }
   ],
   "source": [
    "#키가 중복될 경우 하나를 제외한 나머지는 무시됨. \n",
    "#-> 일반적으로 나중에 정의된 항목이 이전에 정의된 항목을 덮어 씀\n",
    "data = {\"msg\":\"hello\", \"msg\": \"world\", \"msg\": \"python\"}\n",
    "print(data['msg'])\n",
    "data"
   ]
  },
  {
   "cell_type": "code",
   "execution_count": 37,
   "metadata": {},
   "outputs": [
    {
     "ename": "SyntaxError",
     "evalue": "invalid syntax (362480733.py, line 12)",
     "output_type": "error",
     "traceback": [
      "\u001b[0;36m  Cell \u001b[0;32mIn[37], line 12\u001b[0;36m\u001b[0m\n\u001b[0;31m    \"grade\": grade\u001b[0m\n\u001b[0m    ^\u001b[0m\n\u001b[0;31mSyntaxError\u001b[0m\u001b[0;31m:\u001b[0m invalid syntax\n"
     ]
    }
   ],
   "source": [
    "#정보의 계층적 표현\n",
    "#딕셔너리는 리스트나 다른 딕셔너리를 포함할 수 있다. \n",
    "#-> 정보를 계층화해서 표현 가능함\n",
    "addr =[\"서울\",\"서초구\", \"강남대로\"]\n",
    "grade = {\"korean\": 98, \"math\": 77, \"english\": 82}\n",
    "\n",
    "#서로 다른 종류의 데이터를 저장할 수 있다.\n",
    "member = {\n",
    "    \"userid\": \"python\", # 문자열 데이터\n",
    "    \"age\": 20, # 정수형 데이터\n",
    "    \"addr\": addr, #리스트 데이터\n",
    "    \"grade\": grade\n",
    "}\n",
    "\n",
    "member"
   ]
  },
  {
   "cell_type": "code",
   "execution_count": 22,
   "metadata": {},
   "outputs": [
    {
     "name": "stdout",
     "output_type": "stream",
     "text": [
      "서울\n",
      "98\n"
     ]
    }
   ],
   "source": [
    "#계층화된 값에 접근하기\n",
    "print(member[\"addr\"] [0])\n",
    "print(member[\"grade\"][\"korean\"])\n",
    "\n",
    "#중간에 쉼표를 안넣어주는 것이 포인트! addr 랑 0 사이에 쉼표 넣으면 모든 정보 다 나온다!"
   ]
  },
  {
   "cell_type": "code",
   "execution_count": 39,
   "metadata": {},
   "outputs": [
    {
     "name": "stdout",
     "output_type": "stream",
     "text": [
      "[{'id': 'a', 'name': '철수'}, {'id': 'b', 'name': '영수'}]\n"
     ]
    }
   ],
   "source": [
    "#딕셔너리를 원소로 갖는 리스트\n",
    "#리스트의 원소가 딕셔너리가 되는 경우 --> 표 자료형\n",
    "grade = [\n",
    "    {\"name\": \"철수\", \"kor\": 95, \"eng\":88}, # 0\n",
    "    {\"name\": \"영희\", \"kor\": 92, \"eng\":90}, # 1\n",
    "    {\"name\": \"철민\", \"kor\": 88, \"eng\":76}  # 2\n",
    "]\n",
    "\n",
    "\n",
    "user_list = []\n",
    "\n",
    "user_1 = {\n",
    "    \"id\": 'a',\n",
    "    \"name\": '철수'\n",
    "}\n",
    "user_2 = {\n",
    "    \"id\": 'b',\n",
    "    \"name\": '영수'\n",
    "}\n",
    "\n",
    "user_list.append(user_1)\n",
    "user_list.append(user_2)\n",
    "\n",
    "\n",
    "print(user_list)\n",
    "\n",
    "# tpl = \"{0}의 국어점수:{1}, 영어점수:{2}\"\n",
    "# print(tpl.format(grade[0][\"name\"], grade[0][\"kor\"], grade[0][\"eng\"]))\n",
    "# print(tpl.format(grade[1][\"name\"], grade[1][\"kor\"], grade[1][\"eng\"]))\n",
    "# print(tpl.format(grade[2][\"name\"], grade[2][\"kor\"], grade[2][\"eng\"]))\n",
    "\n",
    "# print(f'{grade[0][\"name\"]}의 국어점수: {grade[0][\"kor\"]}, 영어점수: {grade[0][\"eng\"]}')\n",
    "# print(f'{grade[1][\"name\"]}의 국어점수: {grade[1][\"kor\"]}, 영어점수: {grade[1][\"eng\"]}')\n",
    "# print(f'{grade[2][\"name\"]}의 국어점수: {grade[2][\"kor\"]}, 영어점수: {grade[2][\"eng\"]}')"
   ]
  },
  {
   "cell_type": "code",
   "execution_count": 28,
   "metadata": {},
   "outputs": [
    {
     "name": "stdout",
     "output_type": "stream",
     "text": [
      "철수의 국어점수:95, 영어점수:88\n",
      "영희의 국어점수:92, 영어점수:90\n",
      "철민의 국어점수:88, 영어점수:76\n"
     ]
    }
   ],
   "source": [
    "tpl = \"{0}의 국어점수:{1}, 영어점수:{2}\"\n",
    "print(tpl.format(grade[0][\"name\"], grade[0][\"kor\"], grade[0][\"eng\"]))\n",
    "print(tpl.format(grade[1][\"name\"], grade[1][\"kor\"], grade[1][\"eng\"]))\n",
    "print(tpl.format(grade[2][\"name\"], grade[2][\"kor\"], grade[2][\"eng\"]))"
   ]
  },
  {
   "cell_type": "code",
   "execution_count": 29,
   "metadata": {},
   "outputs": [
    {
     "data": {
      "text/plain": [
       "3"
      ]
     },
     "execution_count": 29,
     "metadata": {},
     "output_type": "execute_result"
    }
   ],
   "source": [
    "#딕셔너리 관련 파이썬 내장함수\n",
    "\n",
    "point = {\"korean\":98, \"math\":77, \"english\":90}\n",
    "len(point)"
   ]
  },
  {
   "cell_type": "code",
   "execution_count": 30,
   "metadata": {},
   "outputs": [
    {
     "name": "stdout",
     "output_type": "stream",
     "text": [
      "철수\n"
     ]
    }
   ],
   "source": [
    "#샘플데이터\n",
    "dic = {\"name\": \"철수\", \"phone\": \"010-1234-5678\", \"birth\": \"0115\"}\n",
    "\n",
    "#특정 key에 대응하는 값 얻기\n",
    "#-> dic[\"name\"]과 동일\n",
    "print(dic.get(\"name\"))\n"
   ]
  },
  {
   "cell_type": "code",
   "execution_count": 31,
   "metadata": {},
   "outputs": [
    {
     "ename": "KeyError",
     "evalue": "'gender'",
     "output_type": "error",
     "traceback": [
      "\u001b[0;31m---------------------------------------------------------------------------\u001b[0m",
      "\u001b[0;31mKeyError\u001b[0m                                  Traceback (most recent call last)",
      "\u001b[1;32m/Users/yeeun/Desktop/파이썬 공부/15강 딕셔너리.ipynb 셀 14\u001b[0m line \u001b[0;36m2\n\u001b[1;32m      <a href='vscode-notebook-cell:/Users/yeeun/Desktop/%ED%8C%8C%EC%9D%B4%EC%8D%AC%20%EA%B3%B5%EB%B6%80/15%EA%B0%95%20%EB%94%95%EC%85%94%EB%84%88%EB%A6%AC.ipynb#X16sZmlsZQ%3D%3D?line=0'>1</a>\u001b[0m \u001b[39m#존재하지 않는 key에 접근하는 경우-->에러\u001b[39;00m\n\u001b[0;32m----> <a href='vscode-notebook-cell:/Users/yeeun/Desktop/%ED%8C%8C%EC%9D%B4%EC%8D%AC%20%EA%B3%B5%EB%B6%80/15%EA%B0%95%20%EB%94%95%EC%85%94%EB%84%88%EB%A6%AC.ipynb#X16sZmlsZQ%3D%3D?line=1'>2</a>\u001b[0m \u001b[39mprint\u001b[39m(dic[\u001b[39m\"\u001b[39;49m\u001b[39mgender\u001b[39;49m\u001b[39m\"\u001b[39;49m])\n",
      "\u001b[0;31mKeyError\u001b[0m: 'gender'"
     ]
    }
   ],
   "source": [
    "#존재하지 않는 key에 접근하는 경우-->에러\n",
    "print(dic[\"gender\"])"
   ]
  },
  {
   "cell_type": "code",
   "execution_count": 32,
   "metadata": {},
   "outputs": [
    {
     "name": "stdout",
     "output_type": "stream",
     "text": [
      "None\n"
     ]
    }
   ],
   "source": [
    "#그러나 get함수를 써서 존재하지 않는 key에 접근하면--> None 반환\n",
    "print(dic.get(\"gender\"))"
   ]
  },
  {
   "cell_type": "code",
   "execution_count": 33,
   "metadata": {},
   "outputs": [
    {
     "name": "stdout",
     "output_type": "stream",
     "text": [
      "남자\n"
     ]
    }
   ],
   "source": [
    "#get함수는 전달하는 key가 존재하지 않을 경우\n",
    "#대신 반환될 값을 함께 설정할 수 있다.\n",
    "print(dic.get(\"gender\", \"남자\"))"
   ]
  },
  {
   "cell_type": "code",
   "execution_count": 34,
   "metadata": {},
   "outputs": [
    {
     "name": "stdout",
     "output_type": "stream",
     "text": [
      "dict_keys(['name', 'phone', 'birth'])\n"
     ]
    }
   ],
   "source": [
    "#Key를 분리하기\n",
    "#key만 모아서 dict_keys라는 객체로 반환\n",
    "keys = dic.keys()\n",
    "print(keys)"
   ]
  },
  {
   "cell_type": "code",
   "execution_count": 35,
   "metadata": {},
   "outputs": [
    {
     "name": "stdout",
     "output_type": "stream",
     "text": [
      "['name', 'phone', 'birth']\n"
     ]
    }
   ],
   "source": [
    "#dict_keys를 list로 변환\n",
    "key_list = list(keys)\n",
    "print(key_list)\n",
    "\n",
    "key_list1 = list(dic.keys())"
   ]
  },
  {
   "cell_type": "code",
   "execution_count": 36,
   "metadata": {},
   "outputs": [
    {
     "data": {
      "text/plain": [
       "['name', 'phone', 'birth']"
      ]
     },
     "execution_count": 36,
     "metadata": {},
     "output_type": "execute_result"
    }
   ],
   "source": [
    "#변환과정(keys()-->list())을 일괄처리\n",
    "keyList = list(dic.keys())\n",
    "keyList"
   ]
  },
  {
   "cell_type": "code",
   "execution_count": 53,
   "metadata": {},
   "outputs": [
    {
     "name": "stdout",
     "output_type": "stream",
     "text": [
      "11x1=11\n",
      "11x2=22\n",
      "11x3=33\n",
      "11x4=44\n",
      "11x5=55\n",
      "11x6=66\n",
      "11x7=77\n",
      "11x8=88\n",
      "11x9=99\n",
      "\n",
      "12x1=12\n",
      "12x2=24\n",
      "12x3=36\n",
      "12x4=48\n",
      "12x5=60\n",
      "12x6=72\n",
      "12x7=84\n",
      "12x8=96\n",
      "12x9=108\n",
      "\n",
      "13x1=13\n",
      "13x2=26\n",
      "13x3=39\n",
      "13x4=52\n",
      "13x5=65\n",
      "13x6=78\n",
      "13x7=91\n",
      "13x8=104\n",
      "13x9=117\n",
      "\n",
      "14x1=14\n",
      "14x2=28\n",
      "14x3=42\n",
      "14x4=56\n",
      "14x5=70\n",
      "14x6=84\n",
      "14x7=98\n",
      "14x8=112\n",
      "14x9=126\n",
      "\n",
      "15x1=15\n",
      "15x2=30\n",
      "15x3=45\n",
      "15x4=60\n",
      "15x5=75\n",
      "15x6=90\n",
      "15x7=105\n",
      "15x8=120\n",
      "15x9=135\n",
      "\n",
      "16x1=16\n",
      "16x2=32\n",
      "16x3=48\n",
      "16x4=64\n",
      "16x5=80\n",
      "16x6=96\n",
      "16x7=112\n",
      "16x8=128\n",
      "16x9=144\n",
      "\n",
      "17x1=17\n",
      "17x2=34\n",
      "17x3=51\n",
      "17x4=68\n",
      "17x5=85\n",
      "17x6=102\n",
      "17x7=119\n",
      "17x8=136\n",
      "17x9=153\n",
      "\n",
      "18x1=18\n",
      "18x2=36\n",
      "18x3=54\n",
      "18x4=72\n",
      "18x5=90\n",
      "18x6=108\n",
      "18x7=126\n",
      "18x8=144\n",
      "18x9=162\n",
      "\n",
      "19x1=19\n",
      "19x2=38\n",
      "19x3=57\n",
      "19x4=76\n",
      "19x5=95\n",
      "19x6=114\n",
      "19x7=133\n",
      "19x8=152\n",
      "19x9=171\n",
      "\n"
     ]
    }
   ],
   "source": [
    "# 리스트 실제로 쓰는 법\n",
    "\n",
    "fruit_list = [ '사과', '바나나', '딸기', '배' ]\n",
    "\n",
    "\n",
    "# 반복문\n",
    "\n",
    "#            '사과', '바나나', '딸기', '배'\n",
    "# for fruit in fruit_list:\n",
    "#     print(fruit)\n",
    "\n",
    "# 구구단 출력해보기\n",
    "# 1. 2단부터 9단까지 있음\n",
    "# 2. 1 ~ 9 까지 각 단은 곱하기 함\n",
    "\n",
    "\"\"\"\n",
    "2 x 1 = 2\n",
    "2 x 2 = 4\n",
    "\n",
    "..\n",
    "2 x 8 = 16\n",
    "2 x 9 = 18\n",
    "\n",
    "..\n",
    "\n",
    "9 x 1 = 9\n",
    "9 x 2 = 18\n",
    "\n",
    "\"\"\"\n",
    "\n",
    "\n",
    "for i in range(11,20):\n",
    "    for j in range(1,10):\n",
    "        result=i*j\n",
    "        print(f'{i}x{j}={result}')\n",
    "    print()\n",
    "\n",
    "\n",
    "\n",
    "\n",
    "\n"
   ]
  },
  {
   "cell_type": "code",
   "execution_count": null,
   "metadata": {},
   "outputs": [],
   "source": []
  }
 ],
 "metadata": {
  "kernelspec": {
   "display_name": "Python 3",
   "language": "python",
   "name": "python3"
  },
  "language_info": {
   "codemirror_mode": {
    "name": "ipython",
    "version": 3
   },
   "file_extension": ".py",
   "mimetype": "text/x-python",
   "name": "python",
   "nbconvert_exporter": "python",
   "pygments_lexer": "ipython3",
   "version": "3.11.5"
  },
  "orig_nbformat": 4
 },
 "nbformat": 4,
 "nbformat_minor": 2
}
