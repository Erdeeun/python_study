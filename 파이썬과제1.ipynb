{
 "cells": [
  {
   "cell_type": "code",
   "execution_count": 1,
   "metadata": {},
   "outputs": [
    {
     "name": "stdout",
     "output_type": "stream",
     "text": [
      "1.58\n",
      "50\n",
      "20.0\n"
     ]
    }
   ],
   "source": [
    "#사용자로부터 정수형 변수 몸무게와 키를 입력받기\n",
    "#입력 받는 과정에서 표시되는 메시지는 개발자가 임의로 정의할 수 있음\n",
    "#몸무게 변수의 이름: myWeight, 키 변수의 이름: myHeight\n",
    "#몸무게 변수는 kg단위로 입력받고, 키 변수는 m 단위로 입력받아야 함\n",
    "#--> 키의 경우 m단위로 입력하려면 실수타입이어야 하므로 float 함수로 변환해야 함\n",
    "myHeight=float(input(\"키를 m단위로 입력하세요 (예 175cm -> 1.75)\"))\n",
    "myWeight=int(input(\"몸무게를 kg단위로 입력하세요 (예 85\"))\n",
    "\n",
    "#입력받은 값을 출력하여 확인\n",
    "print(myHeight)\n",
    "print(myWeight)\n",
    "\n",
    "#BMI산출 식을 적용하여 자신의 BMI수치를 출력\n",
    "BMI=myWeight//myHeight**2\n",
    "print(BMI)"
   ]
  },
  {
   "cell_type": "code",
   "execution_count": null,
   "metadata": {},
   "outputs": [],
   "source": []
  }
 ],
 "metadata": {
  "kernelspec": {
   "display_name": "Python 3",
   "language": "python",
   "name": "python3"
  },
  "language_info": {
   "codemirror_mode": {
    "name": "ipython",
    "version": 3
   },
   "file_extension": ".py",
   "mimetype": "text/x-python",
   "name": "python",
   "nbconvert_exporter": "python",
   "pygments_lexer": "ipython3",
   "version": "3.11.5"
  },
  "orig_nbformat": 4
 },
 "nbformat": 4,
 "nbformat_minor": 2
}
