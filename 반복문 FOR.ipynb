{
 "cells": [
  {
   "cell_type": "code",
   "execution_count": 1,
   "metadata": {},
   "outputs": [
    {
     "name": "stdout",
     "output_type": "stream",
     "text": [
      "x=1\n",
      "x=2\n",
      "x=3\n",
      "x=4\n",
      "x=5\n",
      "x=6\n",
      "x=7\n",
      "x=8\n",
      "x=9\n",
      "x=10\n"
     ]
    }
   ],
   "source": [
    "#18강 반복문 FOR\n",
    "#기본특성 = 초기식, 조건식, 증감식의 일괄표현\n",
    "\n",
    "#x가 1부터 11전까지 1씩 증가하면서 반복 수행\n",
    "for x in range(1,11):\n",
    "    #반복이 진행되는 동안 수행할 명령\n",
    "    print(\"x=%d\" %x)"
   ]
  },
  {
   "cell_type": "code",
   "execution_count": 2,
   "metadata": {},
   "outputs": [
    {
     "name": "stdout",
     "output_type": "stream",
     "text": [
      "7 x 1 = 7\n",
      "7 x 2 = 14\n",
      "7 x 3 = 21\n",
      "7 x 4 = 28\n",
      "7 x 5 = 35\n",
      "7 x 6 = 42\n",
      "7 x 7 = 49\n",
      "7 x 8 = 56\n",
      "7 x 9 = 63\n"
     ]
    }
   ],
   "source": [
    "#구구단 7단 출력하기\n",
    "\n",
    "for y in range(1,10):\n",
    "    z = 7*y\n",
    "    print(\"7 x %d = %d\" %(y,z))"
   ]
  },
  {
   "cell_type": "code",
   "execution_count": 3,
   "metadata": {},
   "outputs": [
    {
     "name": "stdout",
     "output_type": "stream",
     "text": [
      "x=1, sum=1\n",
      "x=2, sum=3\n",
      "x=3, sum=6\n",
      "x=4, sum=10\n",
      "x=5, sum=15\n",
      "x=6, sum=21\n",
      "x=7, sum=28\n",
      "x=8, sum=36\n",
      "x=9, sum=45\n",
      "x=10, sum=55\n"
     ]
    }
   ],
   "source": [
    "#총 합 구하기\n",
    "#1-10까지의 총 합을 구하기\n",
    "\n",
    "sum = 0    #총 합을 누적해서 저장할 변수 무조건 sum값을 0으로 지정해주어야 함.\n",
    "\n",
    "for x in range(1,11):   #x가 1부터 11전까지 1씩 증가하면서 반복수행\n",
    "    #sum 이 x 만큼 스스로 증가\n",
    "    #-> x가 1-10까지 변화하게 되므로 결국 sum은 1부터 10까지 순차적으로 증가하게 된다. \n",
    "    sum += x\n",
    "    print(\"x=%d, sum=%d\" % (x, sum))"
   ]
  },
  {
   "cell_type": "code",
   "execution_count": 4,
   "metadata": {},
   "outputs": [
    {
     "name": "stdout",
     "output_type": "stream",
     "text": [
      "a=0\n",
      "a=10\n",
      "a=20\n",
      "a=30\n",
      "a=40\n",
      "a=50\n",
      "a=60\n",
      "a=70\n",
      "a=80\n",
      "a=90\n"
     ]
    }
   ],
   "source": [
    "#값의 변화단계 조절하기\n",
    "#range 함수의 세번째 파라미터로 변화량을 설정할 수 있다. \n",
    "\n",
    "#0부터 100전(=99)까지 10씩 증가\n",
    "for a in range (0,100, 10):\n",
    "    print(\"a=%d\" % a)"
   ]
  },
  {
   "cell_type": "code",
   "execution_count": 5,
   "metadata": {},
   "outputs": [
    {
     "name": "stdout",
     "output_type": "stream",
     "text": [
      "b=10\n",
      "b=8\n",
      "b=6\n",
      "b=4\n",
      "b=2\n"
     ]
    }
   ],
   "source": [
    "#10부터 0전(=1)까지 2씩 감소\n",
    "\n",
    "for b in range(10, 0, -2):\n",
    "    print(\"b=%d\" %b)"
   ]
  },
  {
   "cell_type": "code",
   "execution_count": 7,
   "metadata": {},
   "outputs": [
    {
     "name": "stdout",
     "output_type": "stream",
     "text": [
      "0번째 원소: 봄\n",
      "1번째 원소: 여름\n",
      "2번째 원소: 가을\n",
      "3번째 원소: 겨울\n"
     ]
    }
   ],
   "source": [
    "#리스트의 인덱스 길이 -1까지만 존재한다는 특성 활용\n",
    "\n",
    "#원소의 수를 조회한 다음 직접 반복범위 지정하기\n",
    "# -> 단점: 각 원소가 저장되는 변수가 없기 때문에 원소에 대한 접근을 리스트를 통해 직접 수행해야 한다.\n",
    "\n",
    "seasons = [\"봄\", \"여름\", \"가을\", \"겨울\"]\n",
    "size = len(seasons)\n",
    "for i in range(0, size):\n",
    "    print (\"%d번째 원소: %s\" %(i, seasons[i]))"
   ]
  },
  {
   "cell_type": "code",
   "execution_count": 8,
   "metadata": {},
   "outputs": [
    {
     "name": "stdout",
     "output_type": "stream",
     "text": [
      "Python\n",
      "is\n",
      "good\n"
     ]
    }
   ],
   "source": [
    "#리스트에 대한 반복\n",
    "\n",
    "msg = [\"Python\", \"is\", \"good\"]\n",
    "\n",
    "#리스트의 각 원소를 순차적으로 i에 대입하면서 반복\n",
    "#단점= 몇번째 원소인지는 알 수 없다. \n",
    "\n",
    "for i in msg:\n",
    "    print(i)"
   ]
  },
  {
   "cell_type": "code",
   "execution_count": 9,
   "metadata": {},
   "outputs": [
    {
     "name": "stdout",
     "output_type": "stream",
     "text": [
      "0번째 값 >> 서울\n",
      "1번째 값 >> 경기\n",
      "2번째 값 >> 부산\n",
      "3번째 값 >> 대구\n",
      "4번째 값 >> 광주\n",
      "5번째 값 >> 대전\n"
     ]
    }
   ],
   "source": [
    "#내장함수를 사용하여 인덱스와 값 한번에 얻기\n",
    "\n",
    "#i에는 리스트의 인덱스가 저장된다.\n",
    "#v에는 리스트의 값(원소)가 저장된다. \n",
    "#i, v 는 단순 변수이므로 개발자 편의에 따라 이름지을 수 있다. \n",
    "\n",
    "city = [\"서울\", \"경기\", \"부산\", \"대구\", \"광주\", \"대전\"]\n",
    "\n",
    "for i, v in enumerate(city):\n",
    "    print(\"%d번째 값 >> %s\" %(i, v))"
   ]
  },
  {
   "cell_type": "code",
   "execution_count": 11,
   "metadata": {},
   "outputs": [
    {
     "name": "stdout",
     "output_type": "stream",
     "text": [
      "총점: 436, 평균: 87\n"
     ]
    }
   ],
   "source": [
    "#반복문의 활용\n",
    "\n",
    "#성적에 대한 총점과 평균 구하기\n",
    "score = [100, 90, 87, 71, 88]\n",
    "\n",
    "#총점을 저장할 변수\n",
    "sum = 0\n",
    "\n",
    "for v in score:\n",
    "    #총점은 각 원소를 누적해서 더한다\n",
    "    sum += v\n",
    "\n",
    "#평균은 총 합에서 원소의 수를 나눈다\n",
    "#\"//\"는 나눗셈에서 정수부분의 몫만 구한다\n",
    "avg = sum // len(score) \n",
    "\n",
    "tpl = \"총점: {0}, 평균: {1}\"\n",
    "print(tpl.format(sum, avg))"
   ]
  },
  {
   "cell_type": "code",
   "execution_count": null,
   "metadata": {},
   "outputs": [],
   "source": []
  }
 ],
 "metadata": {
  "kernelspec": {
   "display_name": "Python 3",
   "language": "python",
   "name": "python3"
  },
  "language_info": {
   "codemirror_mode": {
    "name": "ipython",
    "version": 3
   },
   "file_extension": ".py",
   "mimetype": "text/x-python",
   "name": "python",
   "nbconvert_exporter": "python",
   "pygments_lexer": "ipython3",
   "version": "3.11.5"
  },
  "orig_nbformat": 4
 },
 "nbformat": 4,
 "nbformat_minor": 2
}
